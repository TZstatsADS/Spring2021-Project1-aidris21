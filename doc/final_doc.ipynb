{
 "metadata": {
  "language_info": {
   "codemirror_mode": {
    "name": "ipython",
    "version": 3
   },
   "file_extension": ".py",
   "mimetype": "text/x-python",
   "name": "python",
   "nbconvert_exporter": "python",
   "pygments_lexer": "ipython3",
   "version": "3.6.4-final"
  },
  "orig_nbformat": 2,
  "kernelspec": {
   "name": "python3",
   "display_name": "Python 3",
   "language": "python"
  }
 },
 "nbformat": 4,
 "nbformat_minor": 2,
 "cells": [
  {
   "source": [
    "<h2>Do They Know?: A Brief Analysis of Accuracy of American Voters on Governmental Trivia Questions </h2>"
   ],
   "cell_type": "markdown",
   "metadata": {}
  },
  {
   "source": [
    "<img src=\"../figs/title_photo.jpg\"/>"
   ],
   "cell_type": "markdown",
   "metadata": {}
  },
  {
   "source": [
    "In this analysis, we got hold of survey data conducted by the *American National Election Studies* data center. The surveys they conduct intend to capture how American citizens vote in each major election. But, rather than ask how they voted, today I'd like to know **who is voting**. More spceifically, I want to see how knowledgeable the voting public is on the machinations of the government they're electing. Does the knowledgeability differ across party lines or education? Let's find out!"
   ],
   "cell_type": "markdown",
   "metadata": {}
  },
  {
   "cell_type": "code",
   "execution_count": 1,
   "metadata": {},
   "outputs": [],
   "source": [
    "import pandas as pd\n",
    "from pathlib import Path\n",
    "import plotly.graph_objects as go\n",
    "import plotly.express as px\n",
    "from plotly.subplots import make_subplots\n",
    "import scipy.stats as stats"
   ]
  },
  {
   "source": [
    "<p> We'll be using data from ANES's *2012 Direct Democracy Study*. Below we can see how the data is structured<p>"
   ],
   "cell_type": "markdown",
   "metadata": {}
  },
  {
   "cell_type": "code",
   "execution_count": 11,
   "metadata": {},
   "outputs": [
    {
     "output_type": "stream",
     "name": "stdout",
     "text": [
      "Data dimensions: (5415, 1037)\n------------------------------\nMissing Values: 0\n------------------------------\ndd_version                FINAL RELEASE, ANES 2012 Direct Democracy Stud...\ndd_caseid                                                             20001\ncaseid                                                                 3001\nweight_pre                                                           1.4708\nweight_post                                                           1.518\n                                                ...                        \npost_ddpref_timing                                                       59\npost_flawed_timing                                                       21\npost_ddfavor_timing                                                      26\npost_disp_close_timing                                                   13\npost_qf1_timing                                                          30\nName: 0, Length: 1037, dtype: object\n"
     ]
    }
   ],
   "source": [
    "data_path = Path(\"../data/anes_specialstudy_2012_directdem_dta/anes_specialstudy_2012_directdem_stata12.dta\")\n",
    "data = pd.read_stata(data_path)\n",
    "\n",
    "print(\"Data dimensions: \", end=\"\")\n",
    "print(data.shape)\n",
    "print(\"------------------------------\")\n",
    "\n",
    "print(\"Missing Values: \", end=\"\")\n",
    "print(data.isnull().sum().sum())\n",
    "print(\"------------------------------\")\n",
    "\n",
    "print(data.iloc[0,:])"
   ]
  },
  {
   "source": [
    "<p>Luckily we have no missing values! This does not mean we won't have to filter out non-answers, as we'll see later on. <p>\n",
    "\n",
    "<p>We can also see that we have **5415** participants in the survey, and we have over **1000** columns corresponding to questions and information on the subject. This is a lot of information at our disposal, so we'll need to narrow down what we use. <p>"
   ],
   "cell_type": "markdown",
   "metadata": {}
  },
  {
   "cell_type": "code",
   "execution_count": null,
   "metadata": {},
   "outputs": [],
   "source": []
  }
 ]
}