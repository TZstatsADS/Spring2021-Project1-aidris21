{
 "metadata": {
  "language_info": {
   "codemirror_mode": {
    "name": "ipython",
    "version": 3
   },
   "file_extension": ".py",
   "mimetype": "text/x-python",
   "name": "python",
   "nbconvert_exporter": "python",
   "pygments_lexer": "ipython3",
   "version": "3.6.4-final"
  },
  "orig_nbformat": 2,
  "kernelspec": {
   "name": "python3",
   "display_name": "Python 3",
   "language": "python"
  }
 },
 "nbformat": 4,
 "nbformat_minor": 2,
 "cells": [
  {
   "cell_type": "code",
   "execution_count": 2,
   "metadata": {},
   "outputs": [],
   "source": [
    "import pandas as pd\n",
    "from pathlib import Path\n",
    "import plotly.graph_objects as go\n",
    "import plotly.express as px"
   ]
  },
  {
   "cell_type": "code",
   "execution_count": 3,
   "metadata": {},
   "outputs": [],
   "source": [
    "# Direct Democracy Study\n",
    "\n",
    "data_path = Path(\"../data/anes_specialstudy_2012_directdem_dta/anes_specialstudy_2012_directdem_stata12.dta\")\n",
    "data = pd.read_stata(data_path)"
   ]
  },
  {
   "source": [
    "First, we need to collect all of the objective questions and find their respective correct answers. Luckily, I've done this and compiled the information in a csv file we can use. "
   ],
   "cell_type": "markdown",
   "metadata": {}
  },
  {
   "source": [
    "It appears that there are *three* non-opiniated questions on the survey. These are only the questions I could observe, so there may be more in addition to these. They are:\n",
    "\n",
    "1. What is Medicare?\n",
    "2. On which of the following does the U.S. federal government currently spend the least?\n",
    "3. For how many years is a United States Senator elected – that is, how many years are there in one full term of office for a U.S. Senator?"
   ],
   "cell_type": "markdown",
   "metadata": {}
  },
  {
   "cell_type": "code",
   "execution_count": 8,
   "metadata": {},
   "outputs": [
    {
     "output_type": "execute_result",
     "data": {
      "text/plain": [
       "0    2\n",
       "1    6\n",
       "2    4\n",
       "3    2\n",
       "4    4\n",
       "5    2\n",
       "6    6\n",
       "7    4\n",
       "8    4\n",
       "9    6\n",
       "Name: pre_senterm, dtype: category\n",
       "Categories (24, object): [-9. Refused < -4. Error < 1 < 2 ... 50 < 79 < 90 < 99]"
      ]
     },
     "metadata": {},
     "execution_count": 8
    }
   ],
   "source": [
    "data[\"pre_senterm\"][0:10]"
   ]
  },
  {
   "cell_type": "code",
   "execution_count": null,
   "metadata": {},
   "outputs": [],
   "source": []
  }
 ]
}