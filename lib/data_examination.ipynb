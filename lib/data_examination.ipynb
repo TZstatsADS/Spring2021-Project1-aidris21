{
 "metadata": {
  "language_info": {
   "codemirror_mode": {
    "name": "ipython",
    "version": 3
   },
   "file_extension": ".py",
   "mimetype": "text/x-python",
   "name": "python",
   "nbconvert_exporter": "python",
   "pygments_lexer": "ipython3",
   "version": "3.6.4-final"
  },
  "orig_nbformat": 2,
  "kernelspec": {
   "name": "python3",
   "display_name": "Python 3",
   "language": "python"
  }
 },
 "nbformat": 4,
 "nbformat_minor": 2,
 "cells": [
  {
   "cell_type": "code",
   "execution_count": 3,
   "metadata": {},
   "outputs": [],
   "source": [
    "import pandas as pd\n",
    "from pathlib import Path\n",
    "import plotly.graph_objects as go\n",
    "import plotly.express as px"
   ]
  },
  {
   "cell_type": "code",
   "execution_count": 4,
   "metadata": {},
   "outputs": [],
   "source": [
    "# Direct Democracy Study\n",
    "\n",
    "data_path = Path(\"../data/anes_specialstudy_2012_directdem_dta/anes_specialstudy_2012_directdem_stata12.dta\")\n",
    "data = pd.read_stata(data_path)"
   ]
  },
  {
   "cell_type": "code",
   "execution_count": 5,
   "metadata": {},
   "outputs": [
    {
     "output_type": "execute_result",
     "data": {
      "text/plain": [
       "                                            dd_version  dd_caseid caseid  \\\n",
       "0    FINAL RELEASE, ANES 2012 Direct Democracy Stud...    20001.0   3001   \n",
       "1    FINAL RELEASE, ANES 2012 Direct Democracy Stud...    20002.0   3004   \n",
       "2    FINAL RELEASE, ANES 2012 Direct Democracy Stud...    20003.0   3005   \n",
       "3    FINAL RELEASE, ANES 2012 Direct Democracy Stud...    20004.0   3009   \n",
       "4    FINAL RELEASE, ANES 2012 Direct Democracy Stud...    20005.0   3016   \n",
       "..                                                 ...        ...    ...   \n",
       "995  FINAL RELEASE, ANES 2012 Direct Democracy Stud...    21001.0   5748   \n",
       "996  FINAL RELEASE, ANES 2012 Direct Democracy Stud...    21002.0   5749   \n",
       "997  FINAL RELEASE, ANES 2012 Direct Democracy Stud...    21003.0   5751   \n",
       "998  FINAL RELEASE, ANES 2012 Direct Democracy Stud...    21005.0   5754   \n",
       "999  FINAL RELEASE, ANES 2012 Direct Democracy Stud...    21006.0   5755   \n",
       "\n",
       "     weight_pre  weight_post                     main_anes        sample  \\\n",
       "0        1.4708       1.5180  1. Main ANES survey response  1. Main ANES   \n",
       "1        0.2901       0.0000  1. Main ANES survey response  1. Main ANES   \n",
       "2        1.6573       1.8081  1. Main ANES survey response  1. Main ANES   \n",
       "3        1.3252       0.9914  1. Main ANES survey response  1. Main ANES   \n",
       "4        1.2193       1.2796  1. Main ANES survey response  1. Main ANES   \n",
       "..          ...          ...                           ...           ...   \n",
       "995      5.1631       4.9866  1. Main ANES survey response  1. Main ANES   \n",
       "996      4.1436       3.6616  1. Main ANES survey response  1. Main ANES   \n",
       "997      5.1631       4.2684  1. Main ANES survey response  1. Main ANES   \n",
       "998      0.3416       0.3896  1. Main ANES survey response  1. Main ANES   \n",
       "999      2.7209       0.0000  1. Main ANES survey response  1. Main ANES   \n",
       "\n",
       "                          dd_pid_x dd_rvote2012_x  \\\n",
       "0      2. Not very strong Democrat       1. Voted   \n",
       "1    6. Not very strong Republican    -2. Missing   \n",
       "2      2. Not very strong Democrat       1. Voted   \n",
       "3      2. Not very strong Democrat       1. Voted   \n",
       "4    6. Not very strong Republican       1. Voted   \n",
       "..                             ...            ...   \n",
       "995   5. Ind, closer to Republican       1. Voted   \n",
       "996             1. Strong Democrat       1. Voted   \n",
       "997    2. Not very strong Democrat       1. Voted   \n",
       "998  6. Not very strong Republican       1. Voted   \n",
       "999    2. Not very strong Democrat    -2. Missing   \n",
       "\n",
       "               dd_presvote2012_x  ... post_satisf_timing  \\\n",
       "0     1. Barack Obama (Democrat)  ...                 20   \n",
       "1           -6. Unit nonresponse  ...        -2. Missing   \n",
       "2     1. Barack Obama (Democrat)  ...                  9   \n",
       "3     1. Barack Obama (Democrat)  ...                  7   \n",
       "4    2. Mitt Romney (Republican)  ...                 10   \n",
       "..                           ...  ...                ...   \n",
       "995  2. Mitt Romney (Republican)  ...                 21   \n",
       "996   1. Barack Obama (Democrat)  ...                  8   \n",
       "997   1. Barack Obama (Democrat)  ...                  8   \n",
       "998                  -2. Missing  ...                 12   \n",
       "999         -6. Unit nonresponse  ...        -2. Missing   \n",
       "\n",
       "    post_numballot_timing post_happy_timing post_govsay_timing  \\\n",
       "0                      17                17                 20   \n",
       "1             -2. Missing       -2. Missing        -2. Missing   \n",
       "2                       9                 9                 11   \n",
       "3                       6                 5                  6   \n",
       "4                       6                 7                  9   \n",
       "..                    ...               ...                ...   \n",
       "995                    15                12                 16   \n",
       "996                     8                11                 12   \n",
       "997                     4                 8                  6   \n",
       "998                     7                 7                 12   \n",
       "999           -2. Missing       -2. Missing        -2. Missing   \n",
       "\n",
       "    post_outcome_timing post_ddpref_timing post_flawed_timing  \\\n",
       "0                    23                 59                 21   \n",
       "1           -2. Missing        -2. Missing        -2. Missing   \n",
       "2                    17                 21                  8   \n",
       "3                     4                  5                  7   \n",
       "4                    14                 14                 11   \n",
       "..                  ...                ...                ...   \n",
       "995                  17                 29                 12   \n",
       "996                   8                 14                 15   \n",
       "997                   8                 17                  9   \n",
       "998                  14                 25                  8   \n",
       "999         -2. Missing        -2. Missing        -2. Missing   \n",
       "\n",
       "    post_ddfavor_timing post_disp_close_timing post_qf1_timing  \n",
       "0                    26                     13              30  \n",
       "1           -2. Missing            -2. Missing     -2. Missing  \n",
       "2                    10                      5               7  \n",
       "3                     9                     18               2  \n",
       "4                     8                     14               4  \n",
       "..                  ...                    ...             ...  \n",
       "995                  15                      3             363  \n",
       "996                   7                      3               4  \n",
       "997                   9                     21               3  \n",
       "998                  10                      6               5  \n",
       "999         -2. Missing            -2. Missing     -2. Missing  \n",
       "\n",
       "[1000 rows x 1037 columns]"
      ],
      "text/html": "<div>\n<style scoped>\n    .dataframe tbody tr th:only-of-type {\n        vertical-align: middle;\n    }\n\n    .dataframe tbody tr th {\n        vertical-align: top;\n    }\n\n    .dataframe thead th {\n        text-align: right;\n    }\n</style>\n<table border=\"1\" class=\"dataframe\">\n  <thead>\n    <tr style=\"text-align: right;\">\n      <th></th>\n      <th>dd_version</th>\n      <th>dd_caseid</th>\n      <th>caseid</th>\n      <th>weight_pre</th>\n      <th>weight_post</th>\n      <th>main_anes</th>\n      <th>sample</th>\n      <th>dd_pid_x</th>\n      <th>dd_rvote2012_x</th>\n      <th>dd_presvote2012_x</th>\n      <th>...</th>\n      <th>post_satisf_timing</th>\n      <th>post_numballot_timing</th>\n      <th>post_happy_timing</th>\n      <th>post_govsay_timing</th>\n      <th>post_outcome_timing</th>\n      <th>post_ddpref_timing</th>\n      <th>post_flawed_timing</th>\n      <th>post_ddfavor_timing</th>\n      <th>post_disp_close_timing</th>\n      <th>post_qf1_timing</th>\n    </tr>\n  </thead>\n  <tbody>\n    <tr>\n      <th>0</th>\n      <td>FINAL RELEASE, ANES 2012 Direct Democracy Stud...</td>\n      <td>20001.0</td>\n      <td>3001</td>\n      <td>1.4708</td>\n      <td>1.5180</td>\n      <td>1. Main ANES survey response</td>\n      <td>1. Main ANES</td>\n      <td>2. Not very strong Democrat</td>\n      <td>1. Voted</td>\n      <td>1. Barack Obama (Democrat)</td>\n      <td>...</td>\n      <td>20</td>\n      <td>17</td>\n      <td>17</td>\n      <td>20</td>\n      <td>23</td>\n      <td>59</td>\n      <td>21</td>\n      <td>26</td>\n      <td>13</td>\n      <td>30</td>\n    </tr>\n    <tr>\n      <th>1</th>\n      <td>FINAL RELEASE, ANES 2012 Direct Democracy Stud...</td>\n      <td>20002.0</td>\n      <td>3004</td>\n      <td>0.2901</td>\n      <td>0.0000</td>\n      <td>1. Main ANES survey response</td>\n      <td>1. Main ANES</td>\n      <td>6. Not very strong Republican</td>\n      <td>-2. Missing</td>\n      <td>-6. Unit nonresponse</td>\n      <td>...</td>\n      <td>-2. Missing</td>\n      <td>-2. Missing</td>\n      <td>-2. Missing</td>\n      <td>-2. Missing</td>\n      <td>-2. Missing</td>\n      <td>-2. Missing</td>\n      <td>-2. Missing</td>\n      <td>-2. Missing</td>\n      <td>-2. Missing</td>\n      <td>-2. Missing</td>\n    </tr>\n    <tr>\n      <th>2</th>\n      <td>FINAL RELEASE, ANES 2012 Direct Democracy Stud...</td>\n      <td>20003.0</td>\n      <td>3005</td>\n      <td>1.6573</td>\n      <td>1.8081</td>\n      <td>1. Main ANES survey response</td>\n      <td>1. Main ANES</td>\n      <td>2. Not very strong Democrat</td>\n      <td>1. Voted</td>\n      <td>1. Barack Obama (Democrat)</td>\n      <td>...</td>\n      <td>9</td>\n      <td>9</td>\n      <td>9</td>\n      <td>11</td>\n      <td>17</td>\n      <td>21</td>\n      <td>8</td>\n      <td>10</td>\n      <td>5</td>\n      <td>7</td>\n    </tr>\n    <tr>\n      <th>3</th>\n      <td>FINAL RELEASE, ANES 2012 Direct Democracy Stud...</td>\n      <td>20004.0</td>\n      <td>3009</td>\n      <td>1.3252</td>\n      <td>0.9914</td>\n      <td>1. Main ANES survey response</td>\n      <td>1. Main ANES</td>\n      <td>2. Not very strong Democrat</td>\n      <td>1. Voted</td>\n      <td>1. Barack Obama (Democrat)</td>\n      <td>...</td>\n      <td>7</td>\n      <td>6</td>\n      <td>5</td>\n      <td>6</td>\n      <td>4</td>\n      <td>5</td>\n      <td>7</td>\n      <td>9</td>\n      <td>18</td>\n      <td>2</td>\n    </tr>\n    <tr>\n      <th>4</th>\n      <td>FINAL RELEASE, ANES 2012 Direct Democracy Stud...</td>\n      <td>20005.0</td>\n      <td>3016</td>\n      <td>1.2193</td>\n      <td>1.2796</td>\n      <td>1. Main ANES survey response</td>\n      <td>1. Main ANES</td>\n      <td>6. Not very strong Republican</td>\n      <td>1. Voted</td>\n      <td>2. Mitt Romney (Republican)</td>\n      <td>...</td>\n      <td>10</td>\n      <td>6</td>\n      <td>7</td>\n      <td>9</td>\n      <td>14</td>\n      <td>14</td>\n      <td>11</td>\n      <td>8</td>\n      <td>14</td>\n      <td>4</td>\n    </tr>\n    <tr>\n      <th>...</th>\n      <td>...</td>\n      <td>...</td>\n      <td>...</td>\n      <td>...</td>\n      <td>...</td>\n      <td>...</td>\n      <td>...</td>\n      <td>...</td>\n      <td>...</td>\n      <td>...</td>\n      <td>...</td>\n      <td>...</td>\n      <td>...</td>\n      <td>...</td>\n      <td>...</td>\n      <td>...</td>\n      <td>...</td>\n      <td>...</td>\n      <td>...</td>\n      <td>...</td>\n      <td>...</td>\n    </tr>\n    <tr>\n      <th>995</th>\n      <td>FINAL RELEASE, ANES 2012 Direct Democracy Stud...</td>\n      <td>21001.0</td>\n      <td>5748</td>\n      <td>5.1631</td>\n      <td>4.9866</td>\n      <td>1. Main ANES survey response</td>\n      <td>1. Main ANES</td>\n      <td>5. Ind, closer to Republican</td>\n      <td>1. Voted</td>\n      <td>2. Mitt Romney (Republican)</td>\n      <td>...</td>\n      <td>21</td>\n      <td>15</td>\n      <td>12</td>\n      <td>16</td>\n      <td>17</td>\n      <td>29</td>\n      <td>12</td>\n      <td>15</td>\n      <td>3</td>\n      <td>363</td>\n    </tr>\n    <tr>\n      <th>996</th>\n      <td>FINAL RELEASE, ANES 2012 Direct Democracy Stud...</td>\n      <td>21002.0</td>\n      <td>5749</td>\n      <td>4.1436</td>\n      <td>3.6616</td>\n      <td>1. Main ANES survey response</td>\n      <td>1. Main ANES</td>\n      <td>1. Strong Democrat</td>\n      <td>1. Voted</td>\n      <td>1. Barack Obama (Democrat)</td>\n      <td>...</td>\n      <td>8</td>\n      <td>8</td>\n      <td>11</td>\n      <td>12</td>\n      <td>8</td>\n      <td>14</td>\n      <td>15</td>\n      <td>7</td>\n      <td>3</td>\n      <td>4</td>\n    </tr>\n    <tr>\n      <th>997</th>\n      <td>FINAL RELEASE, ANES 2012 Direct Democracy Stud...</td>\n      <td>21003.0</td>\n      <td>5751</td>\n      <td>5.1631</td>\n      <td>4.2684</td>\n      <td>1. Main ANES survey response</td>\n      <td>1. Main ANES</td>\n      <td>2. Not very strong Democrat</td>\n      <td>1. Voted</td>\n      <td>1. Barack Obama (Democrat)</td>\n      <td>...</td>\n      <td>8</td>\n      <td>4</td>\n      <td>8</td>\n      <td>6</td>\n      <td>8</td>\n      <td>17</td>\n      <td>9</td>\n      <td>9</td>\n      <td>21</td>\n      <td>3</td>\n    </tr>\n    <tr>\n      <th>998</th>\n      <td>FINAL RELEASE, ANES 2012 Direct Democracy Stud...</td>\n      <td>21005.0</td>\n      <td>5754</td>\n      <td>0.3416</td>\n      <td>0.3896</td>\n      <td>1. Main ANES survey response</td>\n      <td>1. Main ANES</td>\n      <td>6. Not very strong Republican</td>\n      <td>1. Voted</td>\n      <td>-2. Missing</td>\n      <td>...</td>\n      <td>12</td>\n      <td>7</td>\n      <td>7</td>\n      <td>12</td>\n      <td>14</td>\n      <td>25</td>\n      <td>8</td>\n      <td>10</td>\n      <td>6</td>\n      <td>5</td>\n    </tr>\n    <tr>\n      <th>999</th>\n      <td>FINAL RELEASE, ANES 2012 Direct Democracy Stud...</td>\n      <td>21006.0</td>\n      <td>5755</td>\n      <td>2.7209</td>\n      <td>0.0000</td>\n      <td>1. Main ANES survey response</td>\n      <td>1. Main ANES</td>\n      <td>2. Not very strong Democrat</td>\n      <td>-2. Missing</td>\n      <td>-6. Unit nonresponse</td>\n      <td>...</td>\n      <td>-2. Missing</td>\n      <td>-2. Missing</td>\n      <td>-2. Missing</td>\n      <td>-2. Missing</td>\n      <td>-2. Missing</td>\n      <td>-2. Missing</td>\n      <td>-2. Missing</td>\n      <td>-2. Missing</td>\n      <td>-2. Missing</td>\n      <td>-2. Missing</td>\n    </tr>\n  </tbody>\n</table>\n<p>1000 rows × 1037 columns</p>\n</div>"
     },
     "metadata": {},
     "execution_count": 5
    }
   ],
   "source": [
    "\n",
    "data.head(1000)"
   ]
  },
  {
   "cell_type": "code",
   "execution_count": 6,
   "metadata": {},
   "outputs": [
    {
     "output_type": "execute_result",
     "data": {
      "text/plain": [
       "(5415, 1037)"
      ]
     },
     "metadata": {},
     "execution_count": 6
    }
   ],
   "source": [
    "data.shape"
   ]
  },
  {
   "cell_type": "code",
   "execution_count": 18,
   "metadata": {},
   "outputs": [
    {
     "output_type": "execute_result",
     "data": {
      "text/plain": [
       "19520001.0"
      ]
     },
     "metadata": {},
     "execution_count": 18
    }
   ],
   "source": []
  },
  {
   "source": [
    "Can we get an idea of where the participants reside? "
   ],
   "cell_type": "markdown",
   "metadata": {}
  },
  {
   "cell_type": "code",
   "execution_count": 7,
   "metadata": {},
   "outputs": [
    {
     "output_type": "stream",
     "name": "stdout",
     "text": [
      "pre_ppstaten\n14. MA    392\n31. OH    472\n34. MI    423\n43. MO    391\n44. ND    317\n45. SD    334\n59. FL    551\n71. AR    275\n84. CO    368\n86. AZ    390\n91. WA    407\n92. OR    375\n93. CA    720\nName: caseid, dtype: int64\nTotal Count: 5415\n['14. MA', '31. OH', '34. MI', '43. MO', '44. ND', '45. SD', '59. FL', '71. AR', '84. CO', '86. AZ', '91. WA', '92. OR', '93. CA']\n"
     ]
    }
   ],
   "source": [
    "location_spread = data.groupby(by=[\"pre_ppstaten\"]).count()\n",
    "print(location_spread[\"caseid\"])\n",
    "print(\"Total Count: \" + str(location_spread[\"caseid\"].sum()))\n",
    "\n",
    "print(list(location_spread.index))"
   ]
  },
  {
   "cell_type": "code",
   "execution_count": 8,
   "metadata": {},
   "outputs": [
    {
     "output_type": "display_data",
     "data": {
      "application/vnd.plotly.v1+json": {
       "config": {
        "plotlyServerURL": "https://plot.ly"
       },
       "data": [
        {
         "colorbar": {
          "title": {
           "text": "Participation in Survey"
          }
         },
         "colorscale": [
          [
           0,
           "rgb(247,251,255)"
          ],
          [
           0.125,
           "rgb(222,235,247)"
          ],
          [
           0.25,
           "rgb(198,219,239)"
          ],
          [
           0.375,
           "rgb(158,202,225)"
          ],
          [
           0.5,
           "rgb(107,174,214)"
          ],
          [
           0.625,
           "rgb(66,146,198)"
          ],
          [
           0.75,
           "rgb(33,113,181)"
          ],
          [
           0.875,
           "rgb(8,81,156)"
          ],
          [
           1,
           "rgb(8,48,107)"
          ]
         ],
         "locationmode": "USA-states",
         "locations": [
          "MA",
          "OH",
          "MI",
          "MO",
          "ND",
          "SD",
          "FL",
          "AR",
          "CO",
          "AZ",
          "WA",
          "OR",
          "CA"
         ],
         "type": "choropleth",
         "z": [
          392,
          472,
          423,
          391,
          317,
          334,
          551,
          275,
          368,
          390,
          407,
          375,
          720
         ]
        }
       ],
       "layout": {
        "geo": {
         "scope": "usa"
        },
        "template": {
         "data": {
          "bar": [
           {
            "error_x": {
             "color": "#2a3f5f"
            },
            "error_y": {
             "color": "#2a3f5f"
            },
            "marker": {
             "line": {
              "color": "#E5ECF6",
              "width": 0.5
             }
            },
            "type": "bar"
           }
          ],
          "barpolar": [
           {
            "marker": {
             "line": {
              "color": "#E5ECF6",
              "width": 0.5
             }
            },
            "type": "barpolar"
           }
          ],
          "carpet": [
           {
            "aaxis": {
             "endlinecolor": "#2a3f5f",
             "gridcolor": "white",
             "linecolor": "white",
             "minorgridcolor": "white",
             "startlinecolor": "#2a3f5f"
            },
            "baxis": {
             "endlinecolor": "#2a3f5f",
             "gridcolor": "white",
             "linecolor": "white",
             "minorgridcolor": "white",
             "startlinecolor": "#2a3f5f"
            },
            "type": "carpet"
           }
          ],
          "choropleth": [
           {
            "colorbar": {
             "outlinewidth": 0,
             "ticks": ""
            },
            "type": "choropleth"
           }
          ],
          "contour": [
           {
            "colorbar": {
             "outlinewidth": 0,
             "ticks": ""
            },
            "colorscale": [
             [
              0,
              "#0d0887"
             ],
             [
              0.1111111111111111,
              "#46039f"
             ],
             [
              0.2222222222222222,
              "#7201a8"
             ],
             [
              0.3333333333333333,
              "#9c179e"
             ],
             [
              0.4444444444444444,
              "#bd3786"
             ],
             [
              0.5555555555555556,
              "#d8576b"
             ],
             [
              0.6666666666666666,
              "#ed7953"
             ],
             [
              0.7777777777777778,
              "#fb9f3a"
             ],
             [
              0.8888888888888888,
              "#fdca26"
             ],
             [
              1,
              "#f0f921"
             ]
            ],
            "type": "contour"
           }
          ],
          "contourcarpet": [
           {
            "colorbar": {
             "outlinewidth": 0,
             "ticks": ""
            },
            "type": "contourcarpet"
           }
          ],
          "heatmap": [
           {
            "colorbar": {
             "outlinewidth": 0,
             "ticks": ""
            },
            "colorscale": [
             [
              0,
              "#0d0887"
             ],
             [
              0.1111111111111111,
              "#46039f"
             ],
             [
              0.2222222222222222,
              "#7201a8"
             ],
             [
              0.3333333333333333,
              "#9c179e"
             ],
             [
              0.4444444444444444,
              "#bd3786"
             ],
             [
              0.5555555555555556,
              "#d8576b"
             ],
             [
              0.6666666666666666,
              "#ed7953"
             ],
             [
              0.7777777777777778,
              "#fb9f3a"
             ],
             [
              0.8888888888888888,
              "#fdca26"
             ],
             [
              1,
              "#f0f921"
             ]
            ],
            "type": "heatmap"
           }
          ],
          "heatmapgl": [
           {
            "colorbar": {
             "outlinewidth": 0,
             "ticks": ""
            },
            "colorscale": [
             [
              0,
              "#0d0887"
             ],
             [
              0.1111111111111111,
              "#46039f"
             ],
             [
              0.2222222222222222,
              "#7201a8"
             ],
             [
              0.3333333333333333,
              "#9c179e"
             ],
             [
              0.4444444444444444,
              "#bd3786"
             ],
             [
              0.5555555555555556,
              "#d8576b"
             ],
             [
              0.6666666666666666,
              "#ed7953"
             ],
             [
              0.7777777777777778,
              "#fb9f3a"
             ],
             [
              0.8888888888888888,
              "#fdca26"
             ],
             [
              1,
              "#f0f921"
             ]
            ],
            "type": "heatmapgl"
           }
          ],
          "histogram": [
           {
            "marker": {
             "colorbar": {
              "outlinewidth": 0,
              "ticks": ""
             }
            },
            "type": "histogram"
           }
          ],
          "histogram2d": [
           {
            "colorbar": {
             "outlinewidth": 0,
             "ticks": ""
            },
            "colorscale": [
             [
              0,
              "#0d0887"
             ],
             [
              0.1111111111111111,
              "#46039f"
             ],
             [
              0.2222222222222222,
              "#7201a8"
             ],
             [
              0.3333333333333333,
              "#9c179e"
             ],
             [
              0.4444444444444444,
              "#bd3786"
             ],
             [
              0.5555555555555556,
              "#d8576b"
             ],
             [
              0.6666666666666666,
              "#ed7953"
             ],
             [
              0.7777777777777778,
              "#fb9f3a"
             ],
             [
              0.8888888888888888,
              "#fdca26"
             ],
             [
              1,
              "#f0f921"
             ]
            ],
            "type": "histogram2d"
           }
          ],
          "histogram2dcontour": [
           {
            "colorbar": {
             "outlinewidth": 0,
             "ticks": ""
            },
            "colorscale": [
             [
              0,
              "#0d0887"
             ],
             [
              0.1111111111111111,
              "#46039f"
             ],
             [
              0.2222222222222222,
              "#7201a8"
             ],
             [
              0.3333333333333333,
              "#9c179e"
             ],
             [
              0.4444444444444444,
              "#bd3786"
             ],
             [
              0.5555555555555556,
              "#d8576b"
             ],
             [
              0.6666666666666666,
              "#ed7953"
             ],
             [
              0.7777777777777778,
              "#fb9f3a"
             ],
             [
              0.8888888888888888,
              "#fdca26"
             ],
             [
              1,
              "#f0f921"
             ]
            ],
            "type": "histogram2dcontour"
           }
          ],
          "mesh3d": [
           {
            "colorbar": {
             "outlinewidth": 0,
             "ticks": ""
            },
            "type": "mesh3d"
           }
          ],
          "parcoords": [
           {
            "line": {
             "colorbar": {
              "outlinewidth": 0,
              "ticks": ""
             }
            },
            "type": "parcoords"
           }
          ],
          "pie": [
           {
            "automargin": true,
            "type": "pie"
           }
          ],
          "scatter": [
           {
            "marker": {
             "colorbar": {
              "outlinewidth": 0,
              "ticks": ""
             }
            },
            "type": "scatter"
           }
          ],
          "scatter3d": [
           {
            "line": {
             "colorbar": {
              "outlinewidth": 0,
              "ticks": ""
             }
            },
            "marker": {
             "colorbar": {
              "outlinewidth": 0,
              "ticks": ""
             }
            },
            "type": "scatter3d"
           }
          ],
          "scattercarpet": [
           {
            "marker": {
             "colorbar": {
              "outlinewidth": 0,
              "ticks": ""
             }
            },
            "type": "scattercarpet"
           }
          ],
          "scattergeo": [
           {
            "marker": {
             "colorbar": {
              "outlinewidth": 0,
              "ticks": ""
             }
            },
            "type": "scattergeo"
           }
          ],
          "scattergl": [
           {
            "marker": {
             "colorbar": {
              "outlinewidth": 0,
              "ticks": ""
             }
            },
            "type": "scattergl"
           }
          ],
          "scattermapbox": [
           {
            "marker": {
             "colorbar": {
              "outlinewidth": 0,
              "ticks": ""
             }
            },
            "type": "scattermapbox"
           }
          ],
          "scatterpolar": [
           {
            "marker": {
             "colorbar": {
              "outlinewidth": 0,
              "ticks": ""
             }
            },
            "type": "scatterpolar"
           }
          ],
          "scatterpolargl": [
           {
            "marker": {
             "colorbar": {
              "outlinewidth": 0,
              "ticks": ""
             }
            },
            "type": "scatterpolargl"
           }
          ],
          "scatterternary": [
           {
            "marker": {
             "colorbar": {
              "outlinewidth": 0,
              "ticks": ""
             }
            },
            "type": "scatterternary"
           }
          ],
          "surface": [
           {
            "colorbar": {
             "outlinewidth": 0,
             "ticks": ""
            },
            "colorscale": [
             [
              0,
              "#0d0887"
             ],
             [
              0.1111111111111111,
              "#46039f"
             ],
             [
              0.2222222222222222,
              "#7201a8"
             ],
             [
              0.3333333333333333,
              "#9c179e"
             ],
             [
              0.4444444444444444,
              "#bd3786"
             ],
             [
              0.5555555555555556,
              "#d8576b"
             ],
             [
              0.6666666666666666,
              "#ed7953"
             ],
             [
              0.7777777777777778,
              "#fb9f3a"
             ],
             [
              0.8888888888888888,
              "#fdca26"
             ],
             [
              1,
              "#f0f921"
             ]
            ],
            "type": "surface"
           }
          ],
          "table": [
           {
            "cells": {
             "fill": {
              "color": "#EBF0F8"
             },
             "line": {
              "color": "white"
             }
            },
            "header": {
             "fill": {
              "color": "#C8D4E3"
             },
             "line": {
              "color": "white"
             }
            },
            "type": "table"
           }
          ]
         },
         "layout": {
          "annotationdefaults": {
           "arrowcolor": "#2a3f5f",
           "arrowhead": 0,
           "arrowwidth": 1
          },
          "coloraxis": {
           "colorbar": {
            "outlinewidth": 0,
            "ticks": ""
           }
          },
          "colorscale": {
           "diverging": [
            [
             0,
             "#8e0152"
            ],
            [
             0.1,
             "#c51b7d"
            ],
            [
             0.2,
             "#de77ae"
            ],
            [
             0.3,
             "#f1b6da"
            ],
            [
             0.4,
             "#fde0ef"
            ],
            [
             0.5,
             "#f7f7f7"
            ],
            [
             0.6,
             "#e6f5d0"
            ],
            [
             0.7,
             "#b8e186"
            ],
            [
             0.8,
             "#7fbc41"
            ],
            [
             0.9,
             "#4d9221"
            ],
            [
             1,
             "#276419"
            ]
           ],
           "sequential": [
            [
             0,
             "#0d0887"
            ],
            [
             0.1111111111111111,
             "#46039f"
            ],
            [
             0.2222222222222222,
             "#7201a8"
            ],
            [
             0.3333333333333333,
             "#9c179e"
            ],
            [
             0.4444444444444444,
             "#bd3786"
            ],
            [
             0.5555555555555556,
             "#d8576b"
            ],
            [
             0.6666666666666666,
             "#ed7953"
            ],
            [
             0.7777777777777778,
             "#fb9f3a"
            ],
            [
             0.8888888888888888,
             "#fdca26"
            ],
            [
             1,
             "#f0f921"
            ]
           ],
           "sequentialminus": [
            [
             0,
             "#0d0887"
            ],
            [
             0.1111111111111111,
             "#46039f"
            ],
            [
             0.2222222222222222,
             "#7201a8"
            ],
            [
             0.3333333333333333,
             "#9c179e"
            ],
            [
             0.4444444444444444,
             "#bd3786"
            ],
            [
             0.5555555555555556,
             "#d8576b"
            ],
            [
             0.6666666666666666,
             "#ed7953"
            ],
            [
             0.7777777777777778,
             "#fb9f3a"
            ],
            [
             0.8888888888888888,
             "#fdca26"
            ],
            [
             1,
             "#f0f921"
            ]
           ]
          },
          "colorway": [
           "#636efa",
           "#EF553B",
           "#00cc96",
           "#ab63fa",
           "#FFA15A",
           "#19d3f3",
           "#FF6692",
           "#B6E880",
           "#FF97FF",
           "#FECB52"
          ],
          "font": {
           "color": "#2a3f5f"
          },
          "geo": {
           "bgcolor": "white",
           "lakecolor": "white",
           "landcolor": "#E5ECF6",
           "showlakes": true,
           "showland": true,
           "subunitcolor": "white"
          },
          "hoverlabel": {
           "align": "left"
          },
          "hovermode": "closest",
          "mapbox": {
           "style": "light"
          },
          "paper_bgcolor": "white",
          "plot_bgcolor": "#E5ECF6",
          "polar": {
           "angularaxis": {
            "gridcolor": "white",
            "linecolor": "white",
            "ticks": ""
           },
           "bgcolor": "#E5ECF6",
           "radialaxis": {
            "gridcolor": "white",
            "linecolor": "white",
            "ticks": ""
           }
          },
          "scene": {
           "xaxis": {
            "backgroundcolor": "#E5ECF6",
            "gridcolor": "white",
            "gridwidth": 2,
            "linecolor": "white",
            "showbackground": true,
            "ticks": "",
            "zerolinecolor": "white"
           },
           "yaxis": {
            "backgroundcolor": "#E5ECF6",
            "gridcolor": "white",
            "gridwidth": 2,
            "linecolor": "white",
            "showbackground": true,
            "ticks": "",
            "zerolinecolor": "white"
           },
           "zaxis": {
            "backgroundcolor": "#E5ECF6",
            "gridcolor": "white",
            "gridwidth": 2,
            "linecolor": "white",
            "showbackground": true,
            "ticks": "",
            "zerolinecolor": "white"
           }
          },
          "shapedefaults": {
           "line": {
            "color": "#2a3f5f"
           }
          },
          "ternary": {
           "aaxis": {
            "gridcolor": "white",
            "linecolor": "white",
            "ticks": ""
           },
           "baxis": {
            "gridcolor": "white",
            "linecolor": "white",
            "ticks": ""
           },
           "bgcolor": "#E5ECF6",
           "caxis": {
            "gridcolor": "white",
            "linecolor": "white",
            "ticks": ""
           }
          },
          "title": {
           "x": 0.05
          },
          "xaxis": {
           "automargin": true,
           "gridcolor": "white",
           "linecolor": "white",
           "ticks": "",
           "title": {
            "standoff": 15
           },
           "zerolinecolor": "white",
           "zerolinewidth": 2
          },
          "yaxis": {
           "automargin": true,
           "gridcolor": "white",
           "linecolor": "white",
           "ticks": "",
           "title": {
            "standoff": 15
           },
           "zerolinecolor": "white",
           "zerolinewidth": 2
          }
         }
        },
        "title": {
         "text": "Participation in 2021 Direct Democracy Survey by State"
        }
       }
      }
     },
     "metadata": {}
    }
   ],
   "source": [
    "# Let's examine a map to get a more intuitive understanding\n",
    "\n",
    "# First let's fix the index, so that the categories are the state abbreviations \n",
    "categories = list(location_spread.index)\n",
    "for i in range(0,len(categories)):\n",
    "    temp = categories[i].split(\" \")\n",
    "    categories[i] = temp[1]\n",
    "\n",
    "# Figure code from plotly documentation: https://plotly.com/python/choropleth-maps/\n",
    "fig = go.Figure(data=go.Choropleth(\n",
    "    locations=categories,\n",
    "    z = location_spread[\"caseid\"].astype(float),\n",
    "    locationmode = 'USA-states',\n",
    "    colorscale = 'Blues',\n",
    "    colorbar_title = \"Participation in Survey\",\n",
    "))\n",
    "\n",
    "fig.update_layout(\n",
    "    title_text = 'Participation in 2021 Direct Democracy Survey by State',\n",
    "    geo_scope='usa', # limit map scope to USA\n",
    ")\n",
    "\n",
    "fig.show()"
   ]
  },
  {
   "source": [
    "It appears that we have a decent spread of participants in blue states, red states, and swing states. Can we take a closer look at the balance of party affiliation we have?"
   ],
   "cell_type": "markdown",
   "metadata": {}
  },
  {
   "cell_type": "code",
   "execution_count": 1,
   "metadata": {},
   "outputs": [
    {
     "output_type": "error",
     "ename": "NameError",
     "evalue": "name 'data' is not defined",
     "traceback": [
      "\u001b[0;31m---------------------------------------------------------------------------\u001b[0m",
      "\u001b[0;31mNameError\u001b[0m                                 Traceback (most recent call last)",
      "\u001b[0;32m<ipython-input-1-f16db4f108a3>\u001b[0m in \u001b[0;36m<module>\u001b[0;34m()\u001b[0m\n\u001b[0;32m----> 1\u001b[0;31m \u001b[0mparty_spread\u001b[0m \u001b[0;34m=\u001b[0m \u001b[0mdata\u001b[0m\u001b[0;34m.\u001b[0m\u001b[0mgroupby\u001b[0m\u001b[0;34m(\u001b[0m\u001b[0mby\u001b[0m\u001b[0;34m=\u001b[0m\u001b[0;34m[\u001b[0m\u001b[0;34m\"pre_rptyid\"\u001b[0m\u001b[0;34m]\u001b[0m\u001b[0;34m)\u001b[0m\u001b[0;34m.\u001b[0m\u001b[0mcount\u001b[0m\u001b[0;34m(\u001b[0m\u001b[0;34m)\u001b[0m\u001b[0;34m\u001b[0m\u001b[0m\n\u001b[0m\u001b[1;32m      2\u001b[0m \u001b[0mprint\u001b[0m\u001b[0;34m(\u001b[0m\u001b[0mparty_spread\u001b[0m\u001b[0;34m[\u001b[0m\u001b[0;34m\"caseid\"\u001b[0m\u001b[0;34m]\u001b[0m\u001b[0;34m)\u001b[0m\u001b[0;34m\u001b[0m\u001b[0m\n\u001b[1;32m      3\u001b[0m \u001b[0;34m\u001b[0m\u001b[0m\n\u001b[1;32m      4\u001b[0m \u001b[0mfig\u001b[0m \u001b[0;34m=\u001b[0m \u001b[0mpx\u001b[0m\u001b[0;34m.\u001b[0m\u001b[0mpie\u001b[0m\u001b[0;34m(\u001b[0m\u001b[0mparty_spread\u001b[0m\u001b[0;34m,\u001b[0m \u001b[0mvalues\u001b[0m\u001b[0;34m=\u001b[0m\u001b[0;34m'caseid'\u001b[0m\u001b[0;34m,\u001b[0m \u001b[0mnames\u001b[0m\u001b[0;34m=\u001b[0m\u001b[0mparty_spread\u001b[0m\u001b[0;34m.\u001b[0m\u001b[0mindex\u001b[0m\u001b[0;34m,\u001b[0m \u001b[0mtitle\u001b[0m\u001b[0;34m=\u001b[0m\u001b[0;34m'Party Affiliation'\u001b[0m\u001b[0;34m)\u001b[0m\u001b[0;34m\u001b[0m\u001b[0m\n\u001b[1;32m      5\u001b[0m \u001b[0mfig\u001b[0m\u001b[0;34m.\u001b[0m\u001b[0mshow\u001b[0m\u001b[0;34m(\u001b[0m\u001b[0;34m)\u001b[0m\u001b[0;34m\u001b[0m\u001b[0m\n",
      "\u001b[0;31mNameError\u001b[0m: name 'data' is not defined"
     ]
    }
   ],
   "source": [
    "party_spread = data.groupby(by=[\"pre_rptyid\"]).count()\n",
    "print(party_spread[\"caseid\"])\n",
    "\n",
    "fig = px.pie(party_spread, values='caseid', names=party_spread.index, title='Party Affiliation')\n",
    "fig.show()"
   ]
  },
  {
   "source": [
    "We have a nearly three way tie between Democrats, Republicans, and independents. This is surprising, considering that the number of US voters who actually vote for independent candidates is much lower than one third. We can see this with examing how these participants voted. "
   ],
   "cell_type": "markdown",
   "metadata": {}
  },
  {
   "cell_type": "code",
   "execution_count": null,
   "metadata": {},
   "outputs": [],
   "source": []
  }
 ]
}